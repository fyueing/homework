## ***用juypter比较两人的成绩并画出图***

### python 代码

from datascience import  *
import matplotlib as mpl
import matplotlib.pyplot as plt
mpl.use('TkAgg')

def extract_rank(data,name):
    temp = data.where('姓名',are.equal_to(name)).column(11).item(0)
    return temp

data1=Table.read_table('C:/Users/fuyue/Desktop/test/20211105-utf-8.csv')
data2=Table.read_table('C:/Users/fuyue/Desktop/test/20211106-utf-8.csv')
data3=Table.read_table('C:/Users/fuyue/Desktop/test/20211107-utf-8.csv')
data4=Table.read_table('C:/Users/fuyue/Desktop/test/20211108-utf-8.csv')
data5=Table.read_table('C:/Users/fuyue/Desktop/test/20211109-utf-8.csv')
data6=Table.read_table('C:/Users/fuyue/Desktop/test/20211109-1-utf-8.csv')
data7=Table.read_table('C:/Users/fuyue/Desktop/test/20211110-utf-8.csv')

name1='赵丹'
name2='卢虹宇'
rank1 = extract_rank(data1,name1)
rank2 = extract_rank(data2,name1)
rank3 = extract_rank(data3,name1)
rank4 = extract_rank(data4,name1)
rank5 = extract_rank(data5,name1)
rank6 = extract_rank(data6,name1)
rank7 = extract_rank(data7,name1)

rank1_1 = extract_rank(data1,name2)
rank2_1 = extract_rank(data2,name2)
rank3_1 = extract_rank(data3,name2)
rank4_1 = extract_rank(data4,name2)
rank5_1 = extract_rank(data5,name2)
rank6_1 = extract_rank(data6,name2)
rank7_1 = extract_rank(data7,name2)


rank_array1 = make_array(rank1,rank2,rank3,rank4,rank5,rank6,rank7)
rank_array2 = make_array(rank1_1,rank2_1,rank3_1,rank4_1,rank5_1,rank6_1,rank7_1)
results = Table().with_columns('考试序号',make_array(1,2,3,4,5,6,7),'姓名',rank_array)
results
plt.plot(make_array(1,2,3,4,5,6,7),rank_array1,'o--',label=name1)
plt.plot(make_array(1,2,3,4,5,6,7),rank_array2,'o--r',label=name2)

plt.xlabel('历次考试')
plt.ylabel('年级RANK')

plt.axis([0,10,650,150])
plt.legend(loc='upper right')

plt.rcParams['font.sans-serif']=['Microsoft YaHei']

plt.grid()
plt.show()

